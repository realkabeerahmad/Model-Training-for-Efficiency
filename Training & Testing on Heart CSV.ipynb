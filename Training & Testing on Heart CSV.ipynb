{
 "cells": [
  {
   "cell_type": "code",
   "execution_count": 356,
   "id": "d7a707a7",
   "metadata": {},
   "outputs": [],
   "source": [
    "#Importing python packages\n",
    "import numpy as np\n",
    "import pandas as pd\n",
    "import seaborn as sns\n",
    "from sklearn import metrics\n",
    "from sklearn.metrics import confusion_matrix\n",
    "from sklearn.metrics import plot_confusion_matrix\n",
    "from sklearn.model_selection import train_test_split\n",
    "from sklearn import svm\n",
    "from sklearn.neighbors import KNeighborsClassifier\n",
    "from sklearn.tree import DecisionTreeClassifier, export_graphviz\n",
    "from sklearn.neural_network import MLPClassifier\n",
    "from sklearn.preprocessing import LabelEncoder\n",
    "import matplotlib.pyplot as plt\n",
    "import time\n",
    "#Creating Lists for storing data\n",
    "TrainTime = []\n",
    "TestTime = []\n",
    "Accuracy_List = []\n",
    "Algorithems = ['SVM','KNN','Decision Tree','Neural Network','Neural Network Tuned']"
   ]
  },
  {
   "cell_type": "code",
   "execution_count": 357,
   "id": "b2eac5d2",
   "metadata": {},
   "outputs": [],
   "source": [
    "#Reading CSV\n",
    "dataset = pd.read_csv('heart.csv')"
   ]
  },
  {
   "cell_type": "code",
   "execution_count": 358,
   "id": "1093ab5c",
   "metadata": {},
   "outputs": [
    {
     "data": {
      "text/html": [
       "<div>\n",
       "<style scoped>\n",
       "    .dataframe tbody tr th:only-of-type {\n",
       "        vertical-align: middle;\n",
       "    }\n",
       "\n",
       "    .dataframe tbody tr th {\n",
       "        vertical-align: top;\n",
       "    }\n",
       "\n",
       "    .dataframe thead th {\n",
       "        text-align: right;\n",
       "    }\n",
       "</style>\n",
       "<table border=\"1\" class=\"dataframe\">\n",
       "  <thead>\n",
       "    <tr style=\"text-align: right;\">\n",
       "      <th></th>\n",
       "      <th>Age</th>\n",
       "      <th>Sex</th>\n",
       "      <th>ChestPainType</th>\n",
       "      <th>RestingBP</th>\n",
       "      <th>Cholesterol</th>\n",
       "      <th>FastingBS</th>\n",
       "      <th>RestingECG</th>\n",
       "      <th>MaxHR</th>\n",
       "      <th>ExerciseAngina</th>\n",
       "      <th>Oldpeak</th>\n",
       "      <th>ST_Slope</th>\n",
       "      <th>HeartDisease</th>\n",
       "    </tr>\n",
       "  </thead>\n",
       "  <tbody>\n",
       "    <tr>\n",
       "      <th>0</th>\n",
       "      <td>40</td>\n",
       "      <td>M</td>\n",
       "      <td>ATA</td>\n",
       "      <td>140</td>\n",
       "      <td>289</td>\n",
       "      <td>0</td>\n",
       "      <td>Normal</td>\n",
       "      <td>172</td>\n",
       "      <td>N</td>\n",
       "      <td>0.0</td>\n",
       "      <td>Up</td>\n",
       "      <td>0</td>\n",
       "    </tr>\n",
       "    <tr>\n",
       "      <th>1</th>\n",
       "      <td>49</td>\n",
       "      <td>F</td>\n",
       "      <td>NAP</td>\n",
       "      <td>160</td>\n",
       "      <td>180</td>\n",
       "      <td>0</td>\n",
       "      <td>Normal</td>\n",
       "      <td>156</td>\n",
       "      <td>N</td>\n",
       "      <td>1.0</td>\n",
       "      <td>Flat</td>\n",
       "      <td>1</td>\n",
       "    </tr>\n",
       "    <tr>\n",
       "      <th>2</th>\n",
       "      <td>37</td>\n",
       "      <td>M</td>\n",
       "      <td>ATA</td>\n",
       "      <td>130</td>\n",
       "      <td>283</td>\n",
       "      <td>0</td>\n",
       "      <td>ST</td>\n",
       "      <td>98</td>\n",
       "      <td>N</td>\n",
       "      <td>0.0</td>\n",
       "      <td>Up</td>\n",
       "      <td>0</td>\n",
       "    </tr>\n",
       "    <tr>\n",
       "      <th>3</th>\n",
       "      <td>48</td>\n",
       "      <td>F</td>\n",
       "      <td>ASY</td>\n",
       "      <td>138</td>\n",
       "      <td>214</td>\n",
       "      <td>0</td>\n",
       "      <td>Normal</td>\n",
       "      <td>108</td>\n",
       "      <td>Y</td>\n",
       "      <td>1.5</td>\n",
       "      <td>Flat</td>\n",
       "      <td>1</td>\n",
       "    </tr>\n",
       "    <tr>\n",
       "      <th>4</th>\n",
       "      <td>54</td>\n",
       "      <td>M</td>\n",
       "      <td>NAP</td>\n",
       "      <td>150</td>\n",
       "      <td>195</td>\n",
       "      <td>0</td>\n",
       "      <td>Normal</td>\n",
       "      <td>122</td>\n",
       "      <td>N</td>\n",
       "      <td>0.0</td>\n",
       "      <td>Up</td>\n",
       "      <td>0</td>\n",
       "    </tr>\n",
       "  </tbody>\n",
       "</table>\n",
       "</div>"
      ],
      "text/plain": [
       "   Age Sex ChestPainType  RestingBP  Cholesterol  FastingBS RestingECG  MaxHR  \\\n",
       "0   40   M           ATA        140          289          0     Normal    172   \n",
       "1   49   F           NAP        160          180          0     Normal    156   \n",
       "2   37   M           ATA        130          283          0         ST     98   \n",
       "3   48   F           ASY        138          214          0     Normal    108   \n",
       "4   54   M           NAP        150          195          0     Normal    122   \n",
       "\n",
       "  ExerciseAngina  Oldpeak ST_Slope  HeartDisease  \n",
       "0              N      0.0       Up             0  \n",
       "1              N      1.0     Flat             1  \n",
       "2              N      0.0       Up             0  \n",
       "3              Y      1.5     Flat             1  \n",
       "4              N      0.0       Up             0  "
      ]
     },
     "execution_count": 358,
     "metadata": {},
     "output_type": "execute_result"
    }
   ],
   "source": [
    "dataset.head()"
   ]
  },
  {
   "cell_type": "code",
   "execution_count": 359,
   "id": "3bf152c6",
   "metadata": {},
   "outputs": [
    {
     "name": "stdout",
     "output_type": "stream",
     "text": [
      "<class 'pandas.core.frame.DataFrame'>\n",
      "RangeIndex: 918 entries, 0 to 917\n",
      "Data columns (total 12 columns):\n",
      " #   Column          Non-Null Count  Dtype  \n",
      "---  ------          --------------  -----  \n",
      " 0   Age             918 non-null    int64  \n",
      " 1   Sex             918 non-null    object \n",
      " 2   ChestPainType   918 non-null    object \n",
      " 3   RestingBP       918 non-null    int64  \n",
      " 4   Cholesterol     918 non-null    int64  \n",
      " 5   FastingBS       918 non-null    int64  \n",
      " 6   RestingECG      918 non-null    object \n",
      " 7   MaxHR           918 non-null    int64  \n",
      " 8   ExerciseAngina  918 non-null    object \n",
      " 9   Oldpeak         918 non-null    float64\n",
      " 10  ST_Slope        918 non-null    object \n",
      " 11  HeartDisease    918 non-null    int64  \n",
      "dtypes: float64(1), int64(6), object(5)\n",
      "memory usage: 86.2+ KB\n"
     ]
    }
   ],
   "source": [
    "#Checking Information of CSV\n",
    "dataset.info()"
   ]
  },
  {
   "cell_type": "code",
   "execution_count": 360,
   "id": "df185619",
   "metadata": {},
   "outputs": [
    {
     "data": {
      "text/plain": [
       "Age                50\n",
       "Sex                 2\n",
       "ChestPainType       4\n",
       "RestingBP          67\n",
       "Cholesterol       222\n",
       "FastingBS           2\n",
       "RestingECG          3\n",
       "MaxHR             119\n",
       "ExerciseAngina      2\n",
       "Oldpeak            53\n",
       "ST_Slope            3\n",
       "HeartDisease        2\n",
       "dtype: int64"
      ]
     },
     "execution_count": 360,
     "metadata": {},
     "output_type": "execute_result"
    }
   ],
   "source": [
    "#Checking Unique Values in data\n",
    "dataset.nunique()"
   ]
  },
  {
   "cell_type": "code",
   "execution_count": 361,
   "id": "61e612ed",
   "metadata": {},
   "outputs": [
    {
     "data": {
      "text/plain": [
       "<AxesSubplot:xlabel='Sex', ylabel='HeartDisease'>"
      ]
     },
     "execution_count": 361,
     "metadata": {},
     "output_type": "execute_result"
    },
    {
     "data": {
      "image/png": "[encoded data removed]",
      "text/plain": [
       "<Figure size 432x288 with 1 Axes>"
      ]
     },
     "metadata": {
      "needs_background": "light"
     },
     "output_type": "display_data"
    }
   ],
   "source": [
    "#Checking Classification on Sex\n",
    "sns.barplot(data = dataset, x = 'Sex' , y = 'HeartDisease')"
   ]
  },
  {
   "cell_type": "code",
   "execution_count": 362,
   "id": "643eb0d2",
   "metadata": {},
   "outputs": [
    {
     "data": {
      "text/plain": [
       "<AxesSubplot:xlabel='ChestPainType', ylabel='HeartDisease'>"
      ]
     },
     "execution_count": 362,
     "metadata": {},
     "output_type": "execute_result"
    },
    {
     "data": {
      "image/png": "[encoded data removed]",
      "text/plain": [
       "<Figure size 432x288 with 1 Axes>"
      ]
     },
     "metadata": {
      "needs_background": "light"
     },
     "output_type": "display_data"
    }
   ],
   "source": [
    "#Checking Classification on ChestPainType\n",
    "sns.barplot(data = dataset, x = 'ChestPainType' , y = 'HeartDisease')"
   ]
  },
  {
   "cell_type": "code",
   "execution_count": 363,
   "id": "9140e8b0",
   "metadata": {},
   "outputs": [
    {
     "data": {
      "text/plain": [
       "<AxesSubplot:xlabel='ST_Slope', ylabel='HeartDisease'>"
      ]
     },
     "execution_count": 363,
     "metadata": {},
     "output_type": "execute_result"
    },
    {
     "data": {
      "image/png": "[encoded data removed]",
      "text/plain": [
       "<Figure size 432x288 with 1 Axes>"
      ]
     },
     "metadata": {
      "needs_background": "light"
     },
     "output_type": "display_data"
    }
   ],
   "source": [
    "#Checking Classification on ST_Slope\n",
    "sns.barplot(data = dataset, x = 'ST_Slope' , y = 'HeartDisease')"
   ]
  },
  {
   "cell_type": "code",
   "execution_count": 364,
   "id": "ddf9a070",
   "metadata": {},
   "outputs": [
    {
     "data": {
      "text/plain": [
       "<AxesSubplot:xlabel='RestingECG', ylabel='HeartDisease'>"
      ]
     },
     "execution_count": 364,
     "metadata": {},
     "output_type": "execute_result"
    },
    {
     "data": {
      "image/png": "[encoded data removed]",
      "text/plain": [
       "<Figure size 432x288 with 1 Axes>"
      ]
     },
     "metadata": {
      "needs_background": "light"
     },
     "output_type": "display_data"
    }
   ],
   "source": [
    "#Checking Classification on RestingECG\n",
    "sns.barplot(data = dataset, x = 'RestingECG' , y = 'HeartDisease')"
   ]
  },
  {
   "cell_type": "code",
   "execution_count": 365,
   "id": "7b2974a0",
   "metadata": {},
   "outputs": [
    {
     "data": {
      "text/plain": [
       "<AxesSubplot:xlabel='ExerciseAngina', ylabel='HeartDisease'>"
      ]
     },
     "execution_count": 365,
     "metadata": {},
     "output_type": "execute_result"
    },
    {
     "data": {
      "image/png": "[encoded data removed]",
      "text/plain": [
       "<Figure size 432x288 with 1 Axes>"
      ]
     },
     "metadata": {
      "needs_background": "light"
     },
     "output_type": "display_data"
    }
   ],
   "source": [
    "#Checking Classification on ExerciseAngina\n",
    "sns.barplot(data = dataset, x = 'ExerciseAngina' , y = 'HeartDisease')"
   ]
  },
  {
   "cell_type": "code",
   "execution_count": 366,
   "id": "8a5f86e7",
   "metadata": {},
   "outputs": [
    {
     "data": {
      "text/plain": [
       "<AxesSubplot:xlabel='FastingBS', ylabel='HeartDisease'>"
      ]
     },
     "execution_count": 366,
     "metadata": {},
     "output_type": "execute_result"
    },
    {
     "data": {
      "image/png": "[encoded data removed]",
      "text/plain": [
       "<Figure size 432x288 with 1 Axes>"
      ]
     },
     "metadata": {
      "needs_background": "light"
     },
     "output_type": "display_data"
    }
   ],
   "source": [
    "#Checking Classification on FastingBS\n",
    "sns.barplot(data = dataset, x = 'FastingBS' , y = 'HeartDisease')"
   ]
  },
  {
   "cell_type": "code",
   "execution_count": 367,
   "id": "768995ec",
   "metadata": {},
   "outputs": [
    {
     "data": {
      "text/plain": [
       "<AxesSubplot:xlabel='Age', ylabel='HeartDisease'>"
      ]
     },
     "execution_count": 367,
     "metadata": {},
     "output_type": "execute_result"
    },
    {
     "data": {
      "image/png": "[encoded data removed]",
      "text/plain": [
       "<Figure size 432x288 with 1 Axes>"
      ]
     },
     "metadata": {
      "needs_background": "light"
     },
     "output_type": "display_data"
    }
   ],
   "source": [
    "#Checking Classification on Age\n",
    "sns.lineplot(data = dataset, x = 'Age' , y = 'HeartDisease')"
   ]
  },
  {
   "cell_type": "code",
   "execution_count": 368,
   "id": "19b0a5b8",
   "metadata": {},
   "outputs": [],
   "source": [
    "#Replacing all string data with numerical Data\n",
    "dataset['Sex'].replace({'M':1,'F':0}, inplace = True)\n",
    "dataset['ChestPainType'].replace({'TA':0,'ASY':1,'ATA':2,'NAP':3}, inplace = True)\n",
    "dataset['ST_Slope'].replace({'Down':0,'Flat':1,'Up':2}, inplace = True)\n",
    "dataset['RestingECG'].replace({'Normal':0,'LVH':1,'ST':2}, inplace = True)\n",
    "dataset['ExerciseAngina'].replace({'N':1,'Y':0}, inplace = True)"
   ]
  },
  {
   "cell_type": "code",
   "execution_count": 369,
   "id": "e28ec8d5",
   "metadata": {},
   "outputs": [
    {
     "data": {
      "text/html": [
       "<div>\n",
       "<style scoped>\n",
       "    .dataframe tbody tr th:only-of-type {\n",
       "        vertical-align: middle;\n",
       "    }\n",
       "\n",
       "    .dataframe tbody tr th {\n",
       "        vertical-align: top;\n",
       "    }\n",
       "\n",
       "    .dataframe thead th {\n",
       "        text-align: right;\n",
       "    }\n",
       "</style>\n",
       "<table border=\"1\" class=\"dataframe\">\n",
       "  <thead>\n",
       "    <tr style=\"text-align: right;\">\n",
       "      <th></th>\n",
       "      <th>Age</th>\n",
       "      <th>Sex</th>\n",
       "      <th>ChestPainType</th>\n",
       "      <th>RestingBP</th>\n",
       "      <th>Cholesterol</th>\n",
       "      <th>FastingBS</th>\n",
       "      <th>RestingECG</th>\n",
       "      <th>MaxHR</th>\n",
       "      <th>ExerciseAngina</th>\n",
       "      <th>Oldpeak</th>\n",
       "      <th>ST_Slope</th>\n",
       "      <th>HeartDisease</th>\n",
       "    </tr>\n",
       "  </thead>\n",
       "  <tbody>\n",
       "    <tr>\n",
       "      <th>0</th>\n",
       "      <td>40</td>\n",
       "      <td>1</td>\n",
       "      <td>2</td>\n",
       "      <td>140</td>\n",
       "      <td>289</td>\n",
       "      <td>0</td>\n",
       "      <td>0</td>\n",
       "      <td>172</td>\n",
       "      <td>1</td>\n",
       "      <td>0.0</td>\n",
       "      <td>2</td>\n",
       "      <td>0</td>\n",
       "    </tr>\n",
       "    <tr>\n",
       "      <th>1</th>\n",
       "      <td>49</td>\n",
       "      <td>0</td>\n",
       "      <td>3</td>\n",
       "      <td>160</td>\n",
       "      <td>180</td>\n",
       "      <td>0</td>\n",
       "      <td>0</td>\n",
       "      <td>156</td>\n",
       "      <td>1</td>\n",
       "      <td>1.0</td>\n",
       "      <td>1</td>\n",
       "      <td>1</td>\n",
       "    </tr>\n",
       "    <tr>\n",
       "      <th>2</th>\n",
       "      <td>37</td>\n",
       "      <td>1</td>\n",
       "      <td>2</td>\n",
       "      <td>130</td>\n",
       "      <td>283</td>\n",
       "      <td>0</td>\n",
       "      <td>2</td>\n",
       "      <td>98</td>\n",
       "      <td>1</td>\n",
       "      <td>0.0</td>\n",
       "      <td>2</td>\n",
       "      <td>0</td>\n",
       "    </tr>\n",
       "    <tr>\n",
       "      <th>3</th>\n",
       "      <td>48</td>\n",
       "      <td>0</td>\n",
       "      <td>1</td>\n",
       "      <td>138</td>\n",
       "      <td>214</td>\n",
       "      <td>0</td>\n",
       "      <td>0</td>\n",
       "      <td>108</td>\n",
       "      <td>0</td>\n",
       "      <td>1.5</td>\n",
       "      <td>1</td>\n",
       "      <td>1</td>\n",
       "    </tr>\n",
       "    <tr>\n",
       "      <th>4</th>\n",
       "      <td>54</td>\n",
       "      <td>1</td>\n",
       "      <td>3</td>\n",
       "      <td>150</td>\n",
       "      <td>195</td>\n",
       "      <td>0</td>\n",
       "      <td>0</td>\n",
       "      <td>122</td>\n",
       "      <td>1</td>\n",
       "      <td>0.0</td>\n",
       "      <td>2</td>\n",
       "      <td>0</td>\n",
       "    </tr>\n",
       "  </tbody>\n",
       "</table>\n",
       "</div>"
      ],
      "text/plain": [
       "   Age  Sex  ChestPainType  RestingBP  Cholesterol  FastingBS  RestingECG  \\\n",
       "0   40    1              2        140          289          0           0   \n",
       "1   49    0              3        160          180          0           0   \n",
       "2   37    1              2        130          283          0           2   \n",
       "3   48    0              1        138          214          0           0   \n",
       "4   54    1              3        150          195          0           0   \n",
       "\n",
       "   MaxHR  ExerciseAngina  Oldpeak  ST_Slope  HeartDisease  \n",
       "0    172               1      0.0         2             0  \n",
       "1    156               1      1.0         1             1  \n",
       "2     98               1      0.0         2             0  \n",
       "3    108               0      1.5         1             1  \n",
       "4    122               1      0.0         2             0  "
      ]
     },
     "execution_count": 369,
     "metadata": {},
     "output_type": "execute_result"
    }
   ],
   "source": [
    "dataset.head()"
   ]
  },
  {
   "cell_type": "code",
   "execution_count": 370,
   "id": "0b66ecec",
   "metadata": {},
   "outputs": [],
   "source": [
    "#Seperating Labels from Data\n",
    "x = dataset.drop('HeartDisease', axis=1)\n",
    "y = dataset['HeartDisease']"
   ]
  },
  {
   "cell_type": "code",
   "execution_count": 371,
   "id": "00449d21",
   "metadata": {},
   "outputs": [],
   "source": [
    "#Spliting Data in train and test\n",
    "train_x, test_x, train_y, test_y = train_test_split(x,y,test_size=0.2,random_state=0)"
   ]
  },
  {
   "cell_type": "code",
   "execution_count": 372,
   "id": "42a9bc17",
   "metadata": {},
   "outputs": [],
   "source": [
    "#SVM Training and Testing and Execution time Calculation\n",
    "Model = svm.SVC(kernel = 'linear')\n",
    "start = time.time()\n",
    "Model.fit(train_x,train_y)\n",
    "end = time.time()\n",
    "time_ = end - start\n",
    "TrainTime.append(time_)\n",
    "start = time.time()\n",
    "predict_y = Model.predict(test_x)\n",
    "end = time.time()\n",
    "time_ = end - start\n",
    "TestTime.append(time_)"
   ]
  },
  {
   "cell_type": "code",
   "execution_count": 373,
   "id": "75f721a8",
   "metadata": {},
   "outputs": [
    {
     "name": "stdout",
     "output_type": "stream",
     "text": [
      "Accuracy:  85.33 %\n"
     ]
    }
   ],
   "source": [
    "# SVM Accuracy Calculation\n",
    "Accuracy = Model.score(test_x,test_y)*100\n",
    "print('Accuracy: ',\"{:.2f}\".format(Accuracy),'%')\n",
    "Accuracy_List.append(Accuracy)"
   ]
  },
  {
   "cell_type": "code",
   "execution_count": 374,
   "id": "60e79fde",
   "metadata": {},
   "outputs": [
    {
     "data": {
      "text/plain": [
       "array([[62, 15],\n",
       "       [12, 95]], dtype=int64)"
      ]
     },
     "execution_count": 374,
     "metadata": {},
     "output_type": "execute_result"
    }
   ],
   "source": [
    "# SVM Confusion matrix\n",
    "confusion_matrix(test_y,predict_y)"
   ]
  },
  {
   "cell_type": "code",
   "execution_count": 375,
   "id": "e938a822",
   "metadata": {},
   "outputs": [
    {
     "data": {
      "image/png": "[encoded data removed]",
      "text/plain": [
       "<Figure size 864x432 with 1 Axes>"
      ]
     },
     "metadata": {
      "needs_background": "light"
     },
     "output_type": "display_data"
    },
    {
     "name": "stdout",
     "output_type": "stream",
     "text": [
      "Maximum Accuracy:  72.28260869565217 at K = 11\n"
     ]
    }
   ],
   "source": [
    "# KNN checking for best Accuracy\n",
    "acc = []\n",
    "for k in range(1,30):\n",
    "    Model = KNeighborsClassifier(k)\n",
    "    Model.fit(train_x,train_y)\n",
    "    predict_y = Model.predict(test_x)\n",
    "    acc.append(Model.score(test_x,test_y)*100)\n",
    "plt.figure(figsize=(12,6))\n",
    "plt.plot(range(1,30),acc)\n",
    "plt.title('Accuracy Rate K Values')\n",
    "plt.xlabel('K-Values')\n",
    "plt.ylabel('Mean Accuracy')\n",
    "plt.show()\n",
    "print(\"Maximum Accuracy: \",max(acc),\"at K =\",acc.index(max(acc))+1)"
   ]
  },
  {
   "cell_type": "code",
   "execution_count": 376,
   "id": "d13c46b3",
   "metadata": {},
   "outputs": [],
   "source": [
    "#KNN Training and Testing and Execution Time Calculation \n",
    "Model = KNeighborsClassifier(n_neighbors=11)  \n",
    "start = time.time()\n",
    "Model.fit(train_x, train_y)\n",
    "end = time.time()\n",
    "time_ = end - start\n",
    "TrainTime.append(time_)\n",
    "start = time.time()\n",
    "predict_y = Model.predict(test_x)\n",
    "end = time.time()\n",
    "time_ = end - start\n",
    "TestTime.append(time_)"
   ]
  },
  {
   "cell_type": "code",
   "execution_count": 377,
   "id": "bde0c6f9",
   "metadata": {},
   "outputs": [
    {
     "name": "stdout",
     "output_type": "stream",
     "text": [
      "Accuracy:  72.28 %\n"
     ]
    }
   ],
   "source": [
    "# KNN Accuracy\n",
    "Accuracy = Model.score(test_x,test_y)*100\n",
    "print('Accuracy: ',\"{:.2f}\".format(Accuracy),'%')\n",
    "Accuracy_List.append(Accuracy)"
   ]
  },
  {
   "cell_type": "code",
   "execution_count": 378,
   "id": "b3e9269f",
   "metadata": {},
   "outputs": [
    {
     "data": {
      "text/plain": [
       "array([[54, 23],\n",
       "       [28, 79]], dtype=int64)"
      ]
     },
     "execution_count": 378,
     "metadata": {},
     "output_type": "execute_result"
    }
   ],
   "source": [
    "# KNN Confuxion Matrix\n",
    "confusion_matrix(test_y, predict_y)"
   ]
  },
  {
   "cell_type": "code",
   "execution_count": 379,
   "id": "1d803c6d",
   "metadata": {},
   "outputs": [],
   "source": [
    "#Decision Tree Training and Testing Execution Time Calculation\n",
    "Model = DecisionTreeClassifier(max_depth=3)\n",
    "start = time.time()\n",
    "Model.fit(train_x, train_y)\n",
    "end = time.time()\n",
    "time_ = end - start\n",
    "TrainTime.append(time_)\n",
    "start = time.time()\n",
    "predict_y = Model.predict(test_x)\n",
    "end = time.time()\n",
    "time_ = end - start\n",
    "TestTime.append(time_)"
   ]
  },
  {
   "cell_type": "code",
   "execution_count": 380,
   "id": "71cc357c",
   "metadata": {},
   "outputs": [
    {
     "name": "stdout",
     "output_type": "stream",
     "text": [
      "Accuracy:  80.43 %\n"
     ]
    }
   ],
   "source": [
    "# Decision Tree Accuracy\n",
    "Accuracy = Model.score(test_x, test_y)*100\n",
    "print('Accuracy: ',\"{:.2f}\".format(Accuracy),'%')\n",
    "Accuracy_List.append(Accuracy)"
   ]
  },
  {
   "cell_type": "code",
   "execution_count": 381,
   "id": "0044e5dc",
   "metadata": {},
   "outputs": [
    {
     "data": {
      "text/plain": [
       "array([[59, 18],\n",
       "       [18, 89]], dtype=int64)"
      ]
     },
     "execution_count": 381,
     "metadata": {},
     "output_type": "execute_result"
    }
   ],
   "source": [
    "confusion_matrix(test_y, predict_y)"
   ]
  },
  {
   "cell_type": "code",
   "execution_count": 382,
   "id": "50cee652",
   "metadata": {},
   "outputs": [
    {
     "name": "stderr",
     "output_type": "stream",
     "text": [
      "C:\\Users\\abdul\\anaconda3\\lib\\site-packages\\sklearn\\neural_network\\_multilayer_perceptron.py:614: ConvergenceWarning: Stochastic Optimizer: Maximum iterations (200) reached and the optimization hasn't converged yet.\n",
      "  warnings.warn(\n"
     ]
    }
   ],
   "source": [
    "Model = MLPClassifier(random_state=1)\n",
    "start = time.time()\n",
    "Model.fit(train_x, train_y)\n",
    "end = time.time()\n",
    "time_ = end - start\n",
    "TrainTime.append(time_)\n",
    "start = time.time()\n",
    "predict_y = Model.predict(test_x)\n",
    "end = time.time()\n",
    "time_ = end - start\n",
    "TestTime.append(time_)"
   ]
  },
  {
   "cell_type": "code",
   "execution_count": 383,
   "id": "b7f979ff",
   "metadata": {},
   "outputs": [
    {
     "name": "stdout",
     "output_type": "stream",
     "text": [
      "Accuracy:  80.43 %\n"
     ]
    }
   ],
   "source": [
    "Accuracy = tree.score(test_x, test_y)*100\n",
    "print('Accuracy: ',\"{:.2f}\".format(Accuracy),'%')\n",
    "Accuracy_List.append(Accuracy)"
   ]
  },
  {
   "cell_type": "code",
   "execution_count": 384,
   "id": "6705e9ff",
   "metadata": {},
   "outputs": [
    {
     "data": {
      "text/plain": [
       "array([[67, 10],\n",
       "       [22, 85]], dtype=int64)"
      ]
     },
     "execution_count": 384,
     "metadata": {},
     "output_type": "execute_result"
    }
   ],
   "source": [
    "confusion_matrix(test_y, predict_y)"
   ]
  },
  {
   "cell_type": "code",
   "execution_count": 385,
   "id": "fe7fec09",
   "metadata": {},
   "outputs": [],
   "source": [
    "Model = MLPClassifier(activation='tanh',solver='sgd',alpha=0.05,hidden_layer_sizes=(4000,10),random_state=1)\n",
    "start = time.time()\n",
    "Model.fit(train_x, train_y)\n",
    "end = time.time()\n",
    "time_ = end - start\n",
    "TrainTime.append(time_)\n",
    "start = time.time()\n",
    "predict_y = Model.predict(test_x)\n",
    "end = time.time()\n",
    "time_ = end - start\n",
    "TestTime.append(time_)"
   ]
  },
  {
   "cell_type": "code",
   "execution_count": 386,
   "id": "18aef6a8",
   "metadata": {},
   "outputs": [
    {
     "name": "stdout",
     "output_type": "stream",
     "text": [
      "Accuracy:  80.43 %\n"
     ]
    }
   ],
   "source": [
    "Accuracy = tree.score(test_x, test_y)*100\n",
    "print('Accuracy: ',\"{:.2f}\".format(Accuracy),'%')\n",
    "Accuracy_List.append(Accuracy)"
   ]
  },
  {
   "cell_type": "code",
   "execution_count": 387,
   "id": "314b7bc6",
   "metadata": {},
   "outputs": [
    {
     "data": {
      "text/plain": [
       "array([[54, 23],\n",
       "       [30, 77]], dtype=int64)"
      ]
     },
     "execution_count": 387,
     "metadata": {},
     "output_type": "execute_result"
    }
   ],
   "source": [
    "confusion_matrix(test_y, predict_y)"
   ]
  },
  {
   "cell_type": "code",
   "execution_count": 388,
   "id": "a8ca81b3",
   "metadata": {},
   "outputs": [
    {
     "data": {
      "image/png": "[encoded data removed]",
      "text/plain": [
       "<Figure size 864x432 with 1 Axes>"
      ]
     },
     "metadata": {
      "needs_background": "light"
     },
     "output_type": "display_data"
    }
   ],
   "source": [
    "c = [\"red\", \"green\", \"orange\", \"black\", \"yellow\"]\n",
    "plt.figure(figsize=(12,6))\n",
    "plt.bar(Algorithems,Accuracy_List, color=c)\n",
    "plt.xlabel(\"Classifications\")\n",
    "plt.ylabel(\"Percentage\")\n",
    "plt.show()"
   ]
  },
  {
   "cell_type": "code",
   "execution_count": 389,
   "id": "81e7c131",
   "metadata": {},
   "outputs": [
    {
     "data": {
      "image/png": "[encoded data removed]",
      "text/plain": [
       "<Figure size 864x432 with 1 Axes>"
      ]
     },
     "metadata": {
      "needs_background": "light"
     },
     "output_type": "display_data"
    }
   ],
   "source": [
    "c = [\"red\", \"green\", \"orange\", \"black\", \"yellow\"]\n",
    "plt.figure(figsize=(12,6))\n",
    "plt.bar(Algorithems,TrainTime, color=c)\n",
    "plt.xlabel(\"Classifications\")\n",
    "plt.ylabel(\"Time (s)\")\n",
    "plt.show()"
   ]
  },
  {
   "cell_type": "code",
   "execution_count": 390,
   "id": "3c42cefc",
   "metadata": {},
   "outputs": [
    {
     "data": {
      "image/png": "[encoded data removed]",
      "text/plain": [
       "<Figure size 864x432 with 1 Axes>"
      ]
     },
     "metadata": {
      "needs_background": "light"
     },
     "output_type": "display_data"
    }
   ],
   "source": [
    "c = [\"red\", \"green\", \"orange\", \"black\", \"yellow\"]\n",
    "plt.figure(figsize=(12,6))\n",
    "plt.bar(Algorithems,TestTime, color=c)\n",
    "plt.xlabel(\"Classifications\")\n",
    "plt.ylabel(\"Time (s)\")\n",
    "plt.show()"
   ]
  },
  {
   "cell_type": "code",
   "execution_count": 391,
   "id": "b154a286",
   "metadata": {},
   "outputs": [],
   "source": [
    "result = pd.DataFrame({'Titles': Algorithems,\n",
    "             'Accuracy (%)':Accuracy_List,\n",
    "             'Train Time (s)': TrainTime,\n",
    "             'Test Time (s)':TestTime})"
   ]
  },
  {
   "cell_type": "code",
   "execution_count": 392,
   "id": "c4b5df4a",
   "metadata": {},
   "outputs": [
    {
     "data": {
      "text/html": [
       "<div>\n",
       "<style scoped>\n",
       "    .dataframe tbody tr th:only-of-type {\n",
       "        vertical-align: middle;\n",
       "    }\n",
       "\n",
       "    .dataframe tbody tr th {\n",
       "        vertical-align: top;\n",
       "    }\n",
       "\n",
       "    .dataframe thead th {\n",
       "        text-align: right;\n",
       "    }\n",
       "</style>\n",
       "<table border=\"1\" class=\"dataframe\">\n",
       "  <thead>\n",
       "    <tr style=\"text-align: right;\">\n",
       "      <th></th>\n",
       "      <th>Titles</th>\n",
       "      <th>Accuracy (%)</th>\n",
       "      <th>Train Time (s)</th>\n",
       "      <th>Test Time (s)</th>\n",
       "    </tr>\n",
       "  </thead>\n",
       "  <tbody>\n",
       "    <tr>\n",
       "      <th>0</th>\n",
       "      <td>SVM</td>\n",
       "      <td>85.326087</td>\n",
       "      <td>4.246571</td>\n",
       "      <td>0.003998</td>\n",
       "    </tr>\n",
       "    <tr>\n",
       "      <th>1</th>\n",
       "      <td>KNN</td>\n",
       "      <td>72.282609</td>\n",
       "      <td>0.007996</td>\n",
       "      <td>0.020987</td>\n",
       "    </tr>\n",
       "    <tr>\n",
       "      <th>2</th>\n",
       "      <td>Decision Tree</td>\n",
       "      <td>80.434783</td>\n",
       "      <td>0.007995</td>\n",
       "      <td>0.003998</td>\n",
       "    </tr>\n",
       "    <tr>\n",
       "      <th>3</th>\n",
       "      <td>Neural Network</td>\n",
       "      <td>80.434783</td>\n",
       "      <td>0.769559</td>\n",
       "      <td>0.003000</td>\n",
       "    </tr>\n",
       "    <tr>\n",
       "      <th>4</th>\n",
       "      <td>Neural Network Tuned</td>\n",
       "      <td>80.434783</td>\n",
       "      <td>13.490282</td>\n",
       "      <td>0.048972</td>\n",
       "    </tr>\n",
       "  </tbody>\n",
       "</table>\n",
       "</div>"
      ],
      "text/plain": [
       "                 Titles  Accuracy (%)  Train Time (s)  Test Time (s)\n",
       "0                   SVM     85.326087        4.246571       0.003998\n",
       "1                   KNN     72.282609        0.007996       0.020987\n",
       "2         Decision Tree     80.434783        0.007995       0.003998\n",
       "3        Neural Network     80.434783        0.769559       0.003000\n",
       "4  Neural Network Tuned     80.434783       13.490282       0.048972"
      ]
     },
     "execution_count": 392,
     "metadata": {},
     "output_type": "execute_result"
    }
   ],
   "source": [
    "result"
   ]
  }
 ],
 "metadata": {
  "kernelspec": {
   "display_name": "Python 3",
   "language": "python",
   "name": "python3"
  },
  "language_info": {
   "codemirror_mode": {
    "name": "ipython",
    "version": 3
   },
   "file_extension": ".py",
   "mimetype": "text/x-python",
   "name": "python",
   "nbconvert_exporter": "python",
   "pygments_lexer": "ipython3",
   "version": "3.8.8"
  }
 },
 "nbformat": 4,
 "nbformat_minor": 5
}
